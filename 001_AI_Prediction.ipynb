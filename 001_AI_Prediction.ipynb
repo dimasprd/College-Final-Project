{
  "nbformat": 4,
  "nbformat_minor": 0,
  "metadata": {
    "colab": {
      "name": "001_AI-Prediction.ipynb",
      "provenance": [],
      "collapsed_sections": [],
      "authorship_tag": "ABX9TyOV6QrkbuHFHvGA3CVNdxql",
      "include_colab_link": true
    },
    "kernelspec": {
      "name": "python3",
      "display_name": "Python 3"
    },
    "language_info": {
      "name": "python"
    }
  },
  "cells": [
    {
      "cell_type": "markdown",
      "metadata": {
        "id": "view-in-github",
        "colab_type": "text"
      },
      "source": [
        "<a href=\"https://colab.research.google.com/github/dimasprd/College-Final-Project/blob/main/001_AI_Prediction.ipynb\" target=\"_parent\"><img src=\"https://colab.research.google.com/assets/colab-badge.svg\" alt=\"Open In Colab\"/></a>"
      ]
    },
    {
      "cell_type": "code",
      "execution_count": 2,
      "metadata": {
        "colab": {
          "base_uri": "https://localhost:8080/"
        },
        "id": "kUAITSai7mOe",
        "outputId": "4446d8fd-4139-4e05-b2d7-58169dd61bb8"
      },
      "outputs": [
        {
          "output_type": "stream",
          "name": "stdout",
          "text": [
            "Looking in indexes: https://pypi.org/simple, https://us-python.pkg.dev/colab-wheels/public/simple/\n",
            "Collecting segypy\n",
            "  Downloading segypy-0.57-py2.py3-none-any.whl (11 kB)\n",
            "Requirement already satisfied: numpy>=1.0.2 in /usr/local/lib/python3.7/dist-packages (from segypy) (1.21.6)\n",
            "Installing collected packages: segypy\n",
            "Successfully installed segypy-0.57\n",
            "Mounted at /content/drive\n"
          ]
        }
      ],
      "source": [
        "!pip install segypy\n",
        "import segypy\n",
        "import numpy as np\n",
        "import pandas as pd\n",
        "import seaborn as sns\n",
        "import matplotlib.pyplot as plt\n",
        "from scipy.signal import butter, filtfilt\n",
        "from sklearn import preprocessing\n",
        "from sklearn.preprocessing import MinMaxScaler\n",
        "from sklearn.ensemble import GradientBoostingRegressor\n",
        "from sklearn.metrics import mean_absolute_error, r2_score, max_error, mean_squared_error, mean_pinball_loss\n",
        "\n",
        "import warnings\n",
        "\n",
        "warnings.filterwarnings('ignore')\n",
        "plt.rcParams['figure.dpi'] = 200\n",
        "plt.style.use('seaborn')\n",
        "\n",
        "from google.colab import drive\n",
        "drive.mount('/content/drive')"
      ]
    },
    {
      "cell_type": "markdown",
      "source": [
        "# Load the Dataset"
      ],
      "metadata": {
        "id": "owHpBLg09Eoj"
      }
    },
    {
      "cell_type": "code",
      "source": [
        "dataset_F032 = pd.read_excel('/content/drive/My Drive/Final Project/Well-F032.xlsx')\n",
        "dataset_F021 = pd.read_excel('/content/drive/My Drive/Final Project/Well-F021.xlsx')\n",
        "dataset_F061 = pd.read_excel('/content/drive/My Drive/Final Project/Well-F061.xlsx')"
      ],
      "metadata": {
        "id": "qAN9RT3S8_9e"
      },
      "execution_count": 3,
      "outputs": []
    },
    {
      "cell_type": "code",
      "source": [
        ""
      ],
      "metadata": {
        "id": "TpUjscwB9Dnw"
      },
      "execution_count": null,
      "outputs": []
    }
  ]
}